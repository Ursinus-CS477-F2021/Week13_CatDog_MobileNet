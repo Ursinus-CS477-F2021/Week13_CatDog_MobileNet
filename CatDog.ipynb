{
 "cells": [
  {
   "cell_type": "code",
   "execution_count": 12,
   "id": "1598c647",
   "metadata": {},
   "outputs": [],
   "source": [
    "import tensorflow as tf\n",
    "import numpy as np\n",
    "import matplotlib.pyplot as plt\n",
    "from tensorflow.keras import datasets, layers, models, optimizers\n",
    "import matplotlib.pyplot as plt\n",
    "import skimage.io\n",
    "from skimage.transform import resize\n",
    "import glob"
   ]
  },
  {
   "cell_type": "code",
   "execution_count": 2,
   "id": "cd95fcc7",
   "metadata": {},
   "outputs": [
    {
     "name": "stdout",
     "output_type": "stream",
     "text": [
      ".........................................................................................................................................................................................................................................................."
     ]
    }
   ],
   "source": [
    "imgres = 128\n",
    "X = []\n",
    "y = []\n",
    "for i, f in enumerate(glob.glob(\"catdog_train/train/*.jpg\")):\n",
    "    if i%100 == 0:\n",
    "        print(\".\", end='')\n",
    "    if \"cat\" in f:\n",
    "        y.append(0)\n",
    "    else:\n",
    "        y.append(1)\n",
    "    x = skimage.io.imread(f)\n",
    "    x = resize(x, (imgres, imgres), anti_aliasing=True)\n",
    "    X.append(x)"
   ]
  },
  {
   "cell_type": "code",
   "execution_count": 16,
   "id": "ec7f5f97",
   "metadata": {},
   "outputs": [],
   "source": [
    "np.random.seed(0)\n",
    "y = np.array(y)\n",
    "idx = np.random.permutation(len(X))\n",
    "n_train = int(len(X)*3/4)\n",
    "idx_train = idx[0:n_train]\n",
    "idx_test = idx[n_train::]\n",
    "X_train = np.array([X[i] for i in idx_train], dtype=np.float32)/255\n",
    "y_train = y[idx_train]\n",
    "y_test = y[idx_test]\n",
    "X_test = np.array([X[i] for i in idx_test], dtype=np.float32)/255"
   ]
  },
  {
   "cell_type": "code",
   "execution_count": 17,
   "id": "e6fc2d19",
   "metadata": {},
   "outputs": [],
   "source": [
    "X_train = tf.convert_to_tensor(X_train, dtype=tf.float32)\n",
    "y_train = tf.convert_to_tensor(y_train)\n",
    "X_test = tf.convert_to_tensor(X_test, dtype=tf.float32)\n",
    "y_test = tf.convert_to_tensor(y_test)"
   ]
  },
  {
   "cell_type": "code",
   "execution_count": 19,
   "id": "4d2454aa",
   "metadata": {},
   "outputs": [
    {
     "name": "stdout",
     "output_type": "stream",
     "text": [
      "Model: \"sequential_2\"\n",
      "_________________________________________________________________\n",
      "Layer (type)                 Output Shape              Param #   \n",
      "=================================================================\n",
      "conv2d_4 (Conv2D)            (None, 128, 128, 32)      896       \n",
      "_________________________________________________________________\n",
      "max_pooling2d_4 (MaxPooling2 (None, 64, 64, 32)        0         \n",
      "_________________________________________________________________\n",
      "conv2d_5 (Conv2D)            (None, 64, 64, 64)        18496     \n",
      "_________________________________________________________________\n",
      "max_pooling2d_5 (MaxPooling2 (None, 32, 32, 64)        0         \n",
      "_________________________________________________________________\n",
      "flatten_2 (Flatten)          (None, 65536)             0         \n",
      "_________________________________________________________________\n",
      "dense_4 (Dense)              (None, 128)               8388736   \n",
      "_________________________________________________________________\n",
      "dense_5 (Dense)              (None, 1)                 129       \n",
      "=================================================================\n",
      "Total params: 8,408,257\n",
      "Trainable params: 8,408,257\n",
      "Non-trainable params: 0\n",
      "_________________________________________________________________\n"
     ]
    }
   ],
   "source": [
    "model = models.Sequential()\n",
    "model.add(layers.Conv2D(32, (3, 3), activation='relu', kernel_initializer='he_uniform', padding='same', input_shape=(imgres, imgres, 3)))\n",
    "model.add(layers.MaxPooling2D((2, 2)))\n",
    "model.add(layers.Conv2D(64, (3, 3), activation='relu', kernel_initializer='he_uniform', padding='same'))\n",
    "model.add(layers.MaxPooling2D((2, 2)))\n",
    "model.add(layers.Flatten())\n",
    "model.add(layers.Dense(128, activation='relu', kernel_initializer='he_uniform'))\n",
    "model.add(layers.Dense(1, activation='sigmoid'))\n",
    "model.summary()"
   ]
  },
  {
   "cell_type": "code",
   "execution_count": 34,
   "id": "b24dfcf2",
   "metadata": {},
   "outputs": [],
   "source": [
    "model = models.Sequential()\n",
    "model.add(layers.Conv2D(32, (3, 3), activation='relu', kernel_initializer='he_uniform', padding='same', input_shape=(imgres, imgres, 3)))\n",
    "model.add(layers.MaxPooling2D((2, 2)))\n",
    "model.add(layers.Dropout(0.2))\n",
    "model.add(layers.Conv2D(64, (3, 3), activation='relu', kernel_initializer='he_uniform', padding='same'))\n",
    "model.add(layers.MaxPooling2D((2, 2)))\n",
    "model.add(layers.Dropout(0.2))\n",
    "model.add(layers.Conv2D(128, (3, 3), activation='relu', kernel_initializer='he_uniform', padding='same'))\n",
    "model.add(layers.MaxPooling2D((2, 2)))\n",
    "model.add(layers.Dropout(0.2))\n",
    "model.add(layers.Flatten())\n",
    "model.add(layers.Dense(128, activation='relu', kernel_initializer='he_uniform'))\n",
    "model.add(layers.Dropout(0.5))\n",
    "model.add(layers.Dense(1, activation='sigmoid'))"
   ]
  },
  {
   "cell_type": "code",
   "execution_count": 35,
   "id": "38db356d",
   "metadata": {},
   "outputs": [],
   "source": [
    "opt = optimizers.SGD(lr=0.001, momentum=0.9)\n",
    "model.compile(optimizer=opt, loss='binary_crossentropy', metrics=['accuracy'])"
   ]
  },
  {
   "cell_type": "code",
   "execution_count": null,
   "id": "ab64aed0",
   "metadata": {},
   "outputs": [
    {
     "name": "stdout",
     "output_type": "stream",
     "text": [
      "Epoch 1/20\n",
      "293/293 [==============================] - 194s 661ms/step - loss: 0.6932 - accuracy: 0.5031 - val_loss: 0.6930 - val_accuracy: 0.5410\n",
      "Epoch 2/20\n",
      "293/293 [==============================] - 187s 640ms/step - loss: 0.6930 - accuracy: 0.5104 - val_loss: 0.6930 - val_accuracy: 0.5000\n",
      "Epoch 3/20\n",
      "293/293 [==============================] - 188s 640ms/step - loss: 0.6929 - accuracy: 0.5108 - val_loss: 0.6930 - val_accuracy: 0.5000\n",
      "Epoch 4/20\n",
      "293/293 [==============================] - 188s 642ms/step - loss: 0.6929 - accuracy: 0.5139 - val_loss: 0.6929 - val_accuracy: 0.5598\n",
      "Epoch 5/20\n",
      "293/293 [==============================] - 190s 650ms/step - loss: 0.6928 - accuracy: 0.5199 - val_loss: 0.6928 - val_accuracy: 0.5509\n",
      "Epoch 6/20\n",
      "293/293 [==============================] - 187s 640ms/step - loss: 0.6925 - accuracy: 0.5332 - val_loss: 0.6927 - val_accuracy: 0.4962\n",
      "Epoch 7/20\n",
      "293/293 [==============================] - 187s 638ms/step - loss: 0.6925 - accuracy: 0.5225 - val_loss: 0.6924 - val_accuracy: 0.5213\n",
      "Epoch 8/20\n",
      "293/293 [==============================] - 187s 637ms/step - loss: 0.6923 - accuracy: 0.5275 - val_loss: 0.6923 - val_accuracy: 0.5587\n",
      "Epoch 9/20\n",
      "293/293 [==============================] - 187s 639ms/step - loss: 0.6920 - accuracy: 0.5340 - val_loss: 0.6924 - val_accuracy: 0.5202\n",
      "Epoch 10/20\n",
      "293/293 [==============================] - 189s 645ms/step - loss: 0.6917 - accuracy: 0.5319 - val_loss: 0.6920 - val_accuracy: 0.5419\n",
      "Epoch 11/20\n",
      "293/293 [==============================] - 195s 664ms/step - loss: 0.6915 - accuracy: 0.5279 - val_loss: 0.6918 - val_accuracy: 0.5579\n",
      "Epoch 12/20\n",
      "293/293 [==============================] - 192s 655ms/step - loss: 0.6911 - accuracy: 0.5364 - val_loss: 0.6919 - val_accuracy: 0.5026\n",
      "Epoch 13/20\n",
      "203/293 [===================>..........] - ETA: 56s - loss: 0.6908 - accuracy: 0.5441"
     ]
    }
   ],
   "source": [
    "model.fit(X_train, y_train, batch_size=64, epochs=20, shuffle=True, validation_data=(X_test, y_test))"
   ]
  },
  {
   "cell_type": "code",
   "execution_count": null,
   "id": "233a8968",
   "metadata": {},
   "outputs": [],
   "source": []
  }
 ],
 "metadata": {
  "kernelspec": {
   "display_name": "Python 3",
   "language": "python",
   "name": "python3"
  },
  "language_info": {
   "codemirror_mode": {
    "name": "ipython",
    "version": 3
   },
   "file_extension": ".py",
   "mimetype": "text/x-python",
   "name": "python",
   "nbconvert_exporter": "python",
   "pygments_lexer": "ipython3",
   "version": "3.8.8"
  }
 },
 "nbformat": 4,
 "nbformat_minor": 5
}
